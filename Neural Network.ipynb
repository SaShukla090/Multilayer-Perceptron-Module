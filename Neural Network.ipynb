{
 "cells": [
  {
   "cell_type": "code",
   "execution_count": null,
   "id": "9dc2f48c",
   "metadata": {},
   "outputs": [],
   "source": [
    "import pandas as pd\n",
    "import numpy as np\n",
    "import matplotlib.pyplot as plt\n",
    "\n",
    "from sklearn.model_selection import train_test_split"
   ]
  },
  {
   "cell_type": "code",
   "execution_count": null,
   "id": "2f87fdde",
   "metadata": {},
   "outputs": [],
   "source": [
    "data = pd.read_csv(\"letter-recognition.data\",header = None)"
   ]
  },
  {
   "cell_type": "code",
   "execution_count": null,
   "id": "84323a43",
   "metadata": {},
   "outputs": [],
   "source": [
    "data.head()"
   ]
  },
  {
   "cell_type": "code",
   "execution_count": null,
   "id": "39af4729",
   "metadata": {},
   "outputs": [],
   "source": [
    "X_train, X_test, y_train, y_test = train_test_split(data.iloc[:,1:], data.iloc[:,0], test_size=0.10, random_state=42, stratify=data.iloc[:,0])"
   ]
  },
  {
   "cell_type": "code",
   "execution_count": null,
   "id": "abd9c5b0",
   "metadata": {},
   "outputs": [],
   "source": [
    "X_train.head()\n",
    "\n"
   ]
  },
  {
   "cell_type": "code",
   "execution_count": null,
   "id": "75f4650e",
   "metadata": {},
   "outputs": [],
   "source": [
    "print(X_train.shape)"
   ]
  },
  {
   "cell_type": "code",
   "execution_count": null,
   "id": "98defca0",
   "metadata": {},
   "outputs": [],
   "source": [
    "print()"
   ]
  },
  {
   "cell_type": "code",
   "execution_count": null,
   "id": "b717195b",
   "metadata": {},
   "outputs": [],
   "source": [
    "from sklearn.preprocessing import StandardScaler\n",
    "S = StandardScaler()\n",
    "X_train = S.fit_transform(X_train)"
   ]
  },
  {
   "cell_type": "code",
   "execution_count": null,
   "id": "39cacb1f",
   "metadata": {},
   "outputs": [],
   "source": []
  },
  {
   "cell_type": "code",
   "execution_count": null,
   "id": "b81e97f7",
   "metadata": {},
   "outputs": [],
   "source": []
  },
  {
   "cell_type": "code",
   "execution_count": null,
   "id": "b9522284",
   "metadata": {},
   "outputs": [],
   "source": [
    "from sklearn.preprocessing import LabelEncoder"
   ]
  },
  {
   "cell_type": "code",
   "execution_count": null,
   "id": "cd2fd9bc",
   "metadata": {},
   "outputs": [],
   "source": [
    "le = LabelEncoder()\n",
    "y_train = le.fit_transform(y_train)\n",
    "y_test = le.fit_transform(y_test)\n",
    "print(y_train[:10], y_test[:10])\n",
    "\n",
    "# y_train = le.inverse_transform(y_train)\n",
    "# y_test = le.inverse_transform(y_test)\n",
    "# print(y_train[:10], y_test[:10])\n"
   ]
  },
  {
   "cell_type": "code",
   "execution_count": null,
   "id": "79af913d",
   "metadata": {},
   "outputs": [],
   "source": [
    "print(X_train.shape)"
   ]
  },
  {
   "cell_type": "code",
   "execution_count": null,
   "id": "a9901fd8",
   "metadata": {},
   "outputs": [],
   "source": [
    "X_train = np.array(X_train)\n",
    "y_train = np.array(y_train)"
   ]
  },
  {
   "cell_type": "code",
   "execution_count": null,
   "id": "be61a7d3",
   "metadata": {},
   "outputs": [],
   "source": []
  },
  {
   "cell_type": "code",
   "execution_count": null,
   "id": "eaad3423",
   "metadata": {},
   "outputs": [],
   "source": [
    "y_train"
   ]
  },
  {
   "cell_type": "code",
   "execution_count": null,
   "id": "eb8374c1",
   "metadata": {},
   "outputs": [],
   "source": [
    "y_soft = []\n",
    "for i in y_train:\n",
    "    l = [0 for j in range(26)]\n",
    "    l[i] = 1\n",
    "    y_soft.append(l)\n",
    "y_soft = np.array(y_soft)"
   ]
  },
  {
   "cell_type": "code",
   "execution_count": null,
   "id": "071dd8cf",
   "metadata": {},
   "outputs": [],
   "source": [
    "y_soft[0,:]"
   ]
  },
  {
   "cell_type": "code",
   "execution_count": null,
   "id": "bf4d90fd",
   "metadata": {},
   "outputs": [],
   "source": []
  },
  {
   "cell_type": "code",
   "execution_count": null,
   "id": "401df7b8",
   "metadata": {},
   "outputs": [],
   "source": [
    "# Package imports\n",
    "import matplotlib.pyplot as plt\n",
    "import numpy as np\n",
    "import sklearn\n",
    "import sklearn.datasets\n",
    "import sklearn.linear_model\n",
    "import matplotlib\n",
    "\n",
    "# Display plots inline and change default figure size\n",
    "%matplotlib inline\n",
    "matplotlib.rcParams['figure.figsize'] = (10.0, 8.0)"
   ]
  },
  {
   "cell_type": "code",
   "execution_count": null,
   "id": "32fd1836",
   "metadata": {},
   "outputs": [],
   "source": [
    "num_examples = len(X_train) # training set size\n",
    "nn_input_dim = 16 # input layer dimensionality\n",
    "nn_output_dim = 26 # output layer dimensionality\n",
    "\n",
    "# Gradient descent parameters (I picked these by hand)\n",
    "epsilon = 0.05 # learning rate for gradient descent\n",
    "reg_lambda = 0.01 # regularization strength"
   ]
  },
  {
   "cell_type": "code",
   "execution_count": null,
   "id": "357f3ba8",
   "metadata": {},
   "outputs": [],
   "source": [
    "# Helper function to evaluate the total loss on the dataset\n",
    "def calculate_loss(model):\n",
    "    W1, b1, W2, b2 = model['W1'], model['b1'], model['W2'], model['b2']\n",
    "    # Forward propagation to calculate our predictions\n",
    "    z1 = X_train.dot(W1) + b1\n",
    "    a1 = np.tanh(z1)\n",
    "    z2 = a1.dot(W2) + b2\n",
    "    exp_scores = np.exp(z2)\n",
    "    probs = exp_scores / np.sum(exp_scores, axis=1, keepdims=True)\n",
    "    # Calculating the loss\n",
    "    corect_logprobs = -np.log(probs[range(num_examples), y_train])\n",
    "    data_loss = np.sum(corect_logprobs)\n",
    "    # Add regulatization term to loss (optional)\n",
    "    data_loss += reg_lambda/2 * (np.sum(np.square(W1)) + np.sum(np.square(W2)))\n",
    "    return 1./num_examples * data_loss"
   ]
  },
  {
   "cell_type": "code",
   "execution_count": null,
   "id": "138cfd9d",
   "metadata": {},
   "outputs": [],
   "source": [
    "# Helper function to predict an output (0 or 1)\n",
    "def predict(model, x):\n",
    "    W1, b1, W2, b2 = model['W1'], model['b1'], model['W2'], model['b2']\n",
    "    # Forward propagation\n",
    "    z1 = x.dot(W1) + b1\n",
    "    a1 = np.tanh(z1)\n",
    "    z2 = a1.dot(W2) + b2\n",
    "    exp_scores = np.exp(z2)\n",
    "    probs = exp_scores / np.sum(exp_scores, axis=1, keepdims=True)\n",
    "    return np.argmax(probs, axis=1)"
   ]
  },
  {
   "cell_type": "code",
   "execution_count": null,
   "id": "0b7eca69",
   "metadata": {},
   "outputs": [],
   "source": [
    "# This function learns parameters for the neural network and returns the model.\n",
    "# - nn_hdim: Number of nodes in the hidden layer\n",
    "# - num_passes: Number of passes through the training data for gradient descent\n",
    "# - print_loss: If True, print the loss every 1000 iterations\n",
    "def build_model(nn_hdim, num_passes=20000, print_loss=False):\n",
    "    \n",
    "    # Initialize the parameters to random values. We need to learn these.\n",
    "    np.random.seed(0)\n",
    "    W1 = np.random.randn(nn_input_dim, nn_hdim) / np.sqrt(nn_input_dim)\n",
    "    b1 = np.zeros((1, nn_hdim))\n",
    "    W2 = np.random.randn(nn_hdim, nn_output_dim) / np.sqrt(nn_hdim)\n",
    "    b2 = np.zeros((1, nn_output_dim))\n",
    "\n",
    "    # This is what we return at the end\n",
    "    model = {}\n",
    "    loss = []\n",
    "    \n",
    "    # Gradient descent. For each batch...\n",
    "    for i in range(0, num_passes):\n",
    "\n",
    "        # Forward propagation\n",
    "        z1 = X_train.dot(W1) + b1\n",
    "        a1 = np.tanh(z1)\n",
    "        z2 = a1.dot(W2) + b2\n",
    "        exp_scores = np.exp(z2)\n",
    "        probs = exp_scores / np.sum(exp_scores, axis=1, keepdims=True)\n",
    "\n",
    "        # Backpropagation\n",
    "        delta3 = probs\n",
    "        delta3[range(num_examples), y_train] -= 1\n",
    "        dW2 = (a1.T).dot(delta3)\n",
    "        db2 = np.sum(delta3, axis=0, keepdims=True)\n",
    "        delta2 = delta3.dot(W2.T) * (1 - np.power(a1, 2))\n",
    "        dW1 = np.dot(X_train.T, delta2)\n",
    "        db1 = np.sum(delta2, axis=0)\n",
    "\n",
    "        # Add regularization terms (b1 and b2 don't have regularization terms)\n",
    "        dW2 += reg_lambda * W2\n",
    "        dW1 += reg_lambda * W1\n",
    "\n",
    "        # Gradient descent parameter update\n",
    "        W1 += -epsilon * dW1\n",
    "        b1 += -epsilon * db1\n",
    "        W2 += -epsilon * dW2\n",
    "        b2 += -epsilon * db2\n",
    "        \n",
    "        # Assign new parameters to the model\n",
    "        model = { 'W1': W1, 'b1': b1, 'W2': W2, 'b2': b2}\n",
    "        loss.append(calculate_loss(model))\n",
    "        \n",
    "        \n",
    "        # Optionally print the loss.\n",
    "        # This is expensive because it uses the whole dataset, so we don't want to do it too often.\n",
    "        if print_loss and i % 200 == 0:\n",
    "            print(\"Loss after iteration %i: %f\" %(i, calculate_loss(model)))\n",
    "    \n",
    "    \n",
    "    return model,loss"
   ]
  },
  {
   "cell_type": "code",
   "execution_count": null,
   "id": "4dee6e85",
   "metadata": {},
   "outputs": [],
   "source": [
    "# Build a model with a 3-dimensional hidden layer\n",
    "model,loss = build_model(6, num_passes=1000,print_loss=True)\n",
    "plt.plot(loss)\n",
    "\n",
    "# # Plot the decision boundary\n",
    "# plot_decision_boundary(lambda x: predict(model, x))\n",
    "# plt.title(\"Decision Boundary for hidden layer size 3\")"
   ]
  },
  {
   "cell_type": "code",
   "execution_count": null,
   "id": "fe1326c4",
   "metadata": {},
   "outputs": [],
   "source": [
    "plt.plot(loss)"
   ]
  },
  {
   "cell_type": "code",
   "execution_count": null,
   "id": "6d4b3269",
   "metadata": {},
   "outputs": [],
   "source": [
    "plt.figure(figsize=(16, 32))\n",
    "hidden_layer_dimensions = [3, 5, 10, 15, 20]\n",
    "\n",
    "for i, nn_hdim in enumerate(hidden_layer_dimensions):\n",
    "    print(nn_hdim)\n",
    "    plt.subplot(5, 2, i+1)\n",
    "    plt.title('Hidden Layer size %d' % nn_hdim)\n",
    "    model,loss = build_model(nn_hdim)\n",
    "    plt.plot(loss)\n",
    "plt.show()"
   ]
  },
  {
   "cell_type": "code",
   "execution_count": null,
   "id": "fdd179f6",
   "metadata": {},
   "outputs": [],
   "source": [
    "model,loss = build_model(10, num_passes=1000,print_loss=True)\n",
    "plt.plot(loss)"
   ]
  },
  {
   "cell_type": "code",
   "execution_count": null,
   "id": "606066bb",
   "metadata": {},
   "outputs": [],
   "source": [
    "model,loss = build_model(15, num_passes=1000,print_loss=True)\n",
    "plt.plot(loss)"
   ]
  },
  {
   "cell_type": "code",
   "execution_count": null,
   "id": "64db38e9",
   "metadata": {},
   "outputs": [],
   "source": [
    "model,loss = build_model(20, num_passes=1000,print_loss=True)\n",
    "plt.plot(loss)"
   ]
  },
  {
   "cell_type": "code",
   "execution_count": null,
   "id": "2d8c5e39",
   "metadata": {},
   "outputs": [],
   "source": [
    "model,loss = build_model(25, num_passes=1000,print_loss=True)\n",
    "plt.plot(loss)"
   ]
  },
  {
   "cell_type": "code",
   "execution_count": null,
   "id": "d51c6042",
   "metadata": {},
   "outputs": [],
   "source": []
  },
  {
   "cell_type": "code",
   "execution_count": null,
   "id": "e2c65751",
   "metadata": {},
   "outputs": [],
   "source": []
  },
  {
   "cell_type": "code",
   "execution_count": null,
   "id": "6d4212ba",
   "metadata": {},
   "outputs": [],
   "source": [
    "X = np.random.randint(1,10,[2,3])\n",
    "X"
   ]
  },
  {
   "cell_type": "code",
   "execution_count": null,
   "id": "176b364e",
   "metadata": {},
   "outputs": [],
   "source": [
    "np.sum(X,axis=1,keepdims=True)"
   ]
  },
  {
   "cell_type": "code",
   "execution_count": null,
   "id": "704cd7e6",
   "metadata": {},
   "outputs": [],
   "source": [
    "e = np.exp(X)\n",
    "s = np.sum(e,axis=1,keepdims=True)\n",
    "s = e/s\n",
    "s"
   ]
  },
  {
   "cell_type": "code",
   "execution_count": null,
   "id": "9c74c288",
   "metadata": {},
   "outputs": [],
   "source": [
    "g = np.random\n",
    "for i in range(X.shape[0]):\n",
    "    for j in range(X.shape[1]):\n",
    "        "
   ]
  },
  {
   "cell_type": "code",
   "execution_count": null,
   "id": "808cb25e",
   "metadata": {},
   "outputs": [],
   "source": [
    "class optimizer:\n",
    "    def __init__(self):\n",
    "       \n",
    "        \n",
    "        raise NotImplementedError\n",
    "        \n",
    "class activation_funcntion:\n",
    "    def __init__(self):\n",
    "        pass\n",
    "#         self.name = name\n",
    "#         raise NotImplementedError\n",
    "    def tanh(self, input_data):\n",
    "        return np.tanh(input_data),1-np.tanh(input_data)**2\n",
    "    \n",
    "#     def tanh_prime(self, input_data):\n",
    "#         return 1-np.tanh(input_data)**2\n",
    "    def Relu(self, x):\n",
    "        return x,1\n",
    "#     def activation(self, name):\n",
    "#         if name == \"tanh\":\n",
    "#             return \n",
    "        \n",
    "        \n",
    "class loss_function:\n",
    "    def __init__(self):\n",
    "        self.name = \"cross_entropy\"\n",
    "#         raise NotImplementedError\n",
    "    \n",
    "    def cross_entropy(self, Y, Yhat):\n",
    "        loss = np.sum(-np.log(Yhat)*Y)\n",
    "        return loss\n",
    "#         pass\n",
    "#         return Y-Yhat\n",
    "#         raise NotImplementedError\n",
    "    \n",
    "\n",
    "    def cross_entropy_prime(self, Y, Yhat):\n",
    "        loss_prime = -Y/Yhat\n",
    "        return loss_prime\n",
    "#         return Y-Yhat\n",
    "#         raise NotImplementedError\n",
    "    \n",
    "    def loss(self, Y, Yhat, name):\n",
    "        self.name = name\n",
    "        if self.name == \"cross_entropy\":\n",
    "            return self.cross_entropy(Y, Yhat)\n",
    "    \n",
    "    def loss_prime(self, Y, Yhat):\n",
    "#         self.name = name\n",
    "        if self.name == \"cross_entropy\":\n",
    "            return self.cross_entropy_prime(Y, Yhat)\n",
    "    \n",
    "\n",
    "        \n",
    "        \n",
    "        \n",
    "        \n",
    "\n",
    "    "
   ]
  },
  {
   "cell_type": "code",
   "execution_count": null,
   "id": "8d20d5c5",
   "metadata": {},
   "outputs": [],
   "source": [
    "from loss_func import loss_function\n",
    "class Neural_Network_Classifier:\n",
    "    def __init__(self,):\n",
    "        self.layers = []\n",
    "        self.loss = None\n",
    "        self.loss_prime = None\n",
    "#         raise NotImplementedError\n",
    "        \n",
    "    def add_layer(self,layer):\n",
    "        self.layers.append(layer)\n",
    "        \n",
    "#         raise NotImplementedError\n",
    "#     def optimizer()\n",
    "    \n",
    "    \n",
    "    def train(self, X, y, optimizer = \"adam\", epoch = 100, learning_rate = 0.01):\n",
    "        self.loss = loss_fucntion\n",
    "        samples = len(X)\n",
    "        \n",
    "        # training loops\n",
    "        for i in range(epoch):\n",
    "            \n",
    "            err = o\n",
    "            for j in range(samples):\n",
    "                output = X[j]\n",
    "                for layer in self.layers:\n",
    "                    output = layer.forward_propagation(output)\n",
    "                    \n",
    "                # computing loss for display purpose only\n",
    "                err += self.loss.loss(y[j], output, name)\n",
    "                \n",
    "                #Back Propagation\n",
    "                error = self.loss.loss_prime(y[j], output)\n",
    "                for layers in reversed(self.layers):\n",
    "                    error = layer.backward_propagation(error, learning_rate)\n",
    "            err /= samples\n",
    "            print(\"epoch %d%d error = %f\"%(i+1, epochs, err))\n",
    "            \n",
    "                \n",
    "\n",
    "#             for layers in reversed(self.layers):\n",
    "#                 error = layer.backward_propagation(error, learning_rate)\n",
    "                \n",
    "#         raise NotImplementedError\n",
    "        \n",
    "    def predict(self, X):\n",
    "        #Number of instances\n",
    "        samples = len(X)\n",
    "        result = []\n",
    "        \n",
    "        #computing output for each input\n",
    "        for i in range(samples):\n",
    "            output = X\n",
    "            for layer in self.layers:\n",
    "\n",
    "                output = layer.forward_propagation(output)\n",
    "        return output\n",
    "    \n",
    "        \n",
    "#         raise NotImplementedError\n",
    "        \n",
    "        \n",
    "        \n",
    "        \n",
    "    \n",
    "        \n",
    "    \n",
    "    "
   ]
  },
  {
   "cell_type": "code",
   "execution_count": null,
   "id": "8a3ae551",
   "metadata": {},
   "outputs": [],
   "source": [
    "class FC_layer:\n",
    "    def __init__(self,input_size, output_size, weight_inialization = \"xavier\"):\n",
    "        self.input = None\n",
    "        self.output = None\n",
    "        self.input_size = input_size\n",
    "        self.output_size = output_size\n",
    "        self.weight_inialization = weight_inialization\n",
    "        \n",
    "        self.weights, self.bias = self.weight_init(self.input_size, self.output_size, weight_inialization)\n",
    "        \n",
    "    def weight_init(self, input_size, output_size, weight_inialization):\n",
    "        if weight_inialization == \"xavier\":\n",
    "            var = 1/input_size\n",
    "            weigths = np.random.normal(0,var ,(input_size,output_size))\n",
    "            bias = np.zeros((input_size,output_size))\n",
    "#             pass\n",
    "        \n",
    "        elif weight_inialization = \"random\":\n",
    "            weights = np.random.rand(input_size, output_size) - 0.5\n",
    "            bias = np.random.rand(1, output_size) - 0.5\n",
    "            return weights, bais\n",
    "    \n",
    "    def forward_propagation(self, input_data):\n",
    "        self.input = input_data\n",
    "        self.output = np.dot(self.input, self.weights) + self.bias\n",
    "        return self.output\n",
    "    \n",
    "    def backward_propagation(self, df_output, learning_rate):\n",
    "        df_input = np.dot(df_output, self.weights.T)\n",
    "        df_weights = np.dot(self.input.T, df_output)\n",
    "        \n",
    "        D = {\"df_I\":df_input,\n",
    "             \"df_W\":df_weights,\n",
    "            }\n",
    "        \n",
    "        return D\n",
    "    \n",
    "        \n",
    "            \n",
    "        "
   ]
  },
  {
   "cell_type": "code",
   "execution_count": null,
   "id": "a8863b2b",
   "metadata": {},
   "outputs": [],
   "source": [
    "from act_func import activation_function\n",
    "class Activation_Layer:\n",
    "    def __init__(self,input_size, output_size, A_funct = \"tanh\"):\n",
    "        self.input = None\n",
    "        self.output = None\n",
    "        self.A_funct = A_funct\n",
    "#         self.input_size = input_size\n",
    "#         self.output_size = output_size\n",
    "        self.act_class = activation_function\n",
    "        \n",
    "#         if self.A_funct==\"tanh\":\n",
    "#             self.act, self.act_prime =  self.act_class\n",
    "\n",
    "    def forward_propogation(self, input_data):\n",
    "        self.input = input_data\n",
    "        self.output = self.act_class.activation(name=self.A_funct, x=input_data)\n",
    "        return self.output\n",
    "    \n",
    "    def backward_propagation(self, df_output):\n",
    "        return self.act_class.activation_prime(x=input_data)*df_output\n",
    "    \n",
    "    \n",
    "    \n",
    "        \n",
    "        \n",
    "        \n",
    "\n",
    "    \n",
    "\n",
    "\n",
    "        \n",
    "        "
   ]
  },
  {
   "cell_type": "code",
   "execution_count": null,
   "id": "cb586f7b",
   "metadata": {},
   "outputs": [],
   "source": [
    "#sigmoid layer\n",
    "class softmax_layer:\n",
    "    def __init__(self, input_size):\n",
    "        self.input = None\n",
    "        self.output = None\n",
    "        self.input_size = input_size\n",
    "        \n",
    "    def forward_propagation(self, input_data):\n",
    "        self.input = input_data\n",
    "        x_exp = np.exp(self.input)\n",
    "        x_sum = np.sum(x_exp, axis=1, keepdims=True)\n",
    "        self.output = x_exp/x_sum\n",
    "        return self.output\n",
    "    \n",
    "    def backward_propagation(self, df_output, learning_rate):\n",
    "        Dz_x = np.zeros((self.input_size,self.input_size))\n",
    "        for i in range(self.input_size):\n",
    "            for j in range(self.input_size):\n",
    "                if i == j:\n",
    "                    Dz_x[i,j] = self.output[i]*(1-self.output[i])\n",
    "                else:\n",
    "                    Dz_x[i,j] = -self.output[i]*self.output[j]\n",
    "                    \n",
    "        DL_x = np.dot(df_output,Dz_x)\n",
    "        return DL_x\n",
    "        \n",
    "        \n",
    "        \n",
    "        \n",
    "        "
   ]
  },
  {
   "cell_type": "code",
   "execution_count": null,
   "id": "bc9ac982",
   "metadata": {},
   "outputs": [],
   "source": []
  },
  {
   "cell_type": "code",
   "execution_count": null,
   "id": "5987a86e",
   "metadata": {},
   "outputs": [],
   "source": [
    "# soft max testing"
   ]
  },
  {
   "cell_type": "code",
   "execution_count": null,
   "id": "e7eac649",
   "metadata": {},
   "outputs": [],
   "source": [
    "from softmax import softmax_layer"
   ]
  },
  {
   "cell_type": "code",
   "execution_count": null,
   "id": "69a63870",
   "metadata": {},
   "outputs": [],
   "source": [
    "S = softmax_layer(4)"
   ]
  },
  {
   "cell_type": "code",
   "execution_count": null,
   "id": "8fcacf86",
   "metadata": {},
   "outputs": [],
   "source": [
    "dL_z = np.random.normal(0,0.1 ,(1,4))"
   ]
  },
  {
   "cell_type": "code",
   "execution_count": null,
   "id": "683591ea",
   "metadata": {},
   "outputs": [],
   "source": [
    "dL_z.shape"
   ]
  },
  {
   "cell_type": "code",
   "execution_count": null,
   "id": "0ef2a028",
   "metadata": {},
   "outputs": [],
   "source": [
    "x = np.array([[0.2,0.5,0.4,0.9]])"
   ]
  },
  {
   "cell_type": "code",
   "execution_count": null,
   "id": "44ad76b3",
   "metadata": {},
   "outputs": [],
   "source": [
    "x.shape"
   ]
  },
  {
   "cell_type": "code",
   "execution_count": null,
   "id": "ca15adb6",
   "metadata": {},
   "outputs": [],
   "source": [
    "output = S.forward_propagation(x)"
   ]
  },
  {
   "cell_type": "code",
   "execution_count": null,
   "id": "ddcc8dbe",
   "metadata": {},
   "outputs": [],
   "source": [
    "x = S.backward_propagation(dL_z, learning_rate=0.1)"
   ]
  },
  {
   "cell_type": "code",
   "execution_count": null,
   "id": "f12f8750",
   "metadata": {},
   "outputs": [],
   "source": [
    "x.shape"
   ]
  },
  {
   "cell_type": "code",
   "execution_count": null,
   "id": "15b9c993",
   "metadata": {},
   "outputs": [],
   "source": []
  },
  {
   "cell_type": "code",
   "execution_count": null,
   "id": "842f785d",
   "metadata": {},
   "outputs": [],
   "source": []
  },
  {
   "cell_type": "code",
   "execution_count": null,
   "id": "2dd052ae",
   "metadata": {},
   "outputs": [],
   "source": [
    "output[0]"
   ]
  },
  {
   "cell_type": "markdown",
   "id": "6668f037",
   "metadata": {},
   "source": [
    "### Testing of loss fucntion"
   ]
  },
  {
   "cell_type": "code",
   "execution_count": null,
   "id": "778e7c40",
   "metadata": {},
   "outputs": [],
   "source": [
    "from loss_func import loss_function"
   ]
  },
  {
   "cell_type": "code",
   "execution_count": null,
   "id": "6b443a1b",
   "metadata": {},
   "outputs": [],
   "source": [
    " y = y_soft[0]"
   ]
  },
  {
   "cell_type": "code",
   "execution_count": null,
   "id": "5fa69b90",
   "metadata": {},
   "outputs": [],
   "source": [
    "yhat = np.random.uniform(0,1,(1,26))\n",
    "yhat"
   ]
  },
  {
   "cell_type": "code",
   "execution_count": null,
   "id": "77abc429",
   "metadata": {},
   "outputs": [],
   "source": [
    "Cel = loss_function()\n",
    "Cel.loss(Y=y, Yhat=yhat, name=\"cross_entropy\")"
   ]
  },
  {
   "cell_type": "code",
   "execution_count": null,
   "id": "b5043e60",
   "metadata": {},
   "outputs": [],
   "source": [
    "y"
   ]
  },
  {
   "cell_type": "code",
   "execution_count": null,
   "id": "abaee50f",
   "metadata": {},
   "outputs": [],
   "source": [
    "Cel.loss_prime()"
   ]
  },
  {
   "cell_type": "code",
   "execution_count": null,
   "id": "87f801ed",
   "metadata": {},
   "outputs": [],
   "source": []
  },
  {
   "cell_type": "code",
   "execution_count": null,
   "id": "8b5a2299",
   "metadata": {},
   "outputs": [],
   "source": []
  },
  {
   "cell_type": "code",
   "execution_count": null,
   "id": "e5913f50",
   "metadata": {},
   "outputs": [],
   "source": []
  },
  {
   "cell_type": "markdown",
   "id": "0f4dcc62",
   "metadata": {},
   "source": [
    "### Testing of Adam optimizer"
   ]
  },
  {
   "cell_type": "code",
   "execution_count": null,
   "id": "a9817bec",
   "metadata": {},
   "outputs": [],
   "source": [
    "W = np.random.uniform(0,0.1, (4,5))\n",
    "B = np.random.uniform(0, 0.1, (1,5))"
   ]
  },
  {
   "cell_type": "code",
   "execution_count": null,
   "id": "461ed662",
   "metadata": {},
   "outputs": [],
   "source": [
    "dW = np.random.uniform(0,1, (4,5))\n",
    "dB = np.random.uniform(0, 1, (1,5))"
   ]
  },
  {
   "cell_type": "code",
   "execution_count": null,
   "id": "2b2a53c8",
   "metadata": {},
   "outputs": [],
   "source": []
  },
  {
   "cell_type": "code",
   "execution_count": null,
   "id": "758ec752",
   "metadata": {},
   "outputs": [],
   "source": []
  },
  {
   "cell_type": "code",
   "execution_count": null,
   "id": "cf2a2364",
   "metadata": {},
   "outputs": [],
   "source": [
    "from Adam import AdamOptim\n",
    "optimizer = AdamOptim()"
   ]
  },
  {
   "cell_type": "code",
   "execution_count": null,
   "id": "cfa7266d",
   "metadata": {},
   "outputs": [],
   "source": [
    "w,b = optimizer.update(t=100, w = W, b= B, dw=dW, db= dB)"
   ]
  },
  {
   "cell_type": "code",
   "execution_count": null,
   "id": "251222f9",
   "metadata": {},
   "outputs": [],
   "source": [
    "w"
   ]
  },
  {
   "cell_type": "code",
   "execution_count": null,
   "id": "495cc49c",
   "metadata": {},
   "outputs": [],
   "source": [
    "b"
   ]
  },
  {
   "cell_type": "code",
   "execution_count": null,
   "id": "da424696",
   "metadata": {},
   "outputs": [],
   "source": []
  },
  {
   "cell_type": "code",
   "execution_count": null,
   "id": "c244729f",
   "metadata": {},
   "outputs": [],
   "source": []
  },
  {
   "cell_type": "code",
   "execution_count": null,
   "id": "b015c1e1",
   "metadata": {},
   "outputs": [],
   "source": []
  },
  {
   "cell_type": "code",
   "execution_count": null,
   "id": "077b0b31",
   "metadata": {},
   "outputs": [],
   "source": []
  },
  {
   "cell_type": "code",
   "execution_count": null,
   "id": "4e5003a5",
   "metadata": {},
   "outputs": [],
   "source": []
  },
  {
   "cell_type": "code",
   "execution_count": null,
   "id": "1a917d54",
   "metadata": {},
   "outputs": [],
   "source": []
  },
  {
   "cell_type": "code",
   "execution_count": null,
   "id": "cf8301b6",
   "metadata": {},
   "outputs": [],
   "source": []
  },
  {
   "cell_type": "code",
   "execution_count": null,
   "id": "1cf97968",
   "metadata": {},
   "outputs": [],
   "source": []
  },
  {
   "cell_type": "code",
   "execution_count": null,
   "id": "e4ed0f51",
   "metadata": {},
   "outputs": [],
   "source": []
  },
  {
   "cell_type": "code",
   "execution_count": null,
   "id": "122404b4",
   "metadata": {},
   "outputs": [],
   "source": []
  },
  {
   "cell_type": "code",
   "execution_count": null,
   "id": "01217c42",
   "metadata": {},
   "outputs": [],
   "source": []
  },
  {
   "cell_type": "markdown",
   "id": "f44599fa",
   "metadata": {},
   "source": [
    "# Making of Neural Network"
   ]
  },
  {
   "cell_type": "code",
   "execution_count": null,
   "id": "c99ce123",
   "metadata": {},
   "outputs": [],
   "source": [
    "%%time\n",
    "from activation_layer import Activation_Layer\n",
    "from fc_layer import FC_layer\n",
    "from Network import Neural_Network_Classifier\n",
    "from softmax import softmax_layer\n",
    "\n",
    "\n",
    "\n",
    "nn_classifier = Neural_Network_Classifier()\n",
    "nn_classifier.add_layer(FC_layer(16, 5, weight_inialization=\"xavier\"))\n",
    "nn_classifier.add_layer(Activation_Layer(A_funct=\"tanh\"))\n",
    "nn_classifier.add_layer(FC_layer(5, 26, weight_inialization=\"xavier\"))\n",
    "nn_classifier.add_layer(softmax_layer(26))\n",
    "\n",
    "nn_classifier.train(X_train, y_soft, optimizer=\"adam\", epoch=100, learning_rate = 0.1)\n",
    "\n"
   ]
  },
  {
   "cell_type": "code",
   "execution_count": null,
   "id": "472f1198",
   "metadata": {},
   "outputs": [],
   "source": [
    "%%time\n",
    "X_test = np.array(X_test)"
   ]
  },
  {
   "cell_type": "code",
   "execution_count": null,
   "id": "7d97fa00",
   "metadata": {},
   "outputs": [],
   "source": [
    "%%time\n",
    "yhat = nn_classifier.predict(X_test)\n"
   ]
  },
  {
   "cell_type": "code",
   "execution_count": null,
   "id": "e3ca86dd",
   "metadata": {},
   "outputs": [],
   "source": [
    "yhat[0\n",
    "    ].sum()"
   ]
  },
  {
   "cell_type": "code",
   "execution_count": null,
   "id": "68f79f8e",
   "metadata": {},
   "outputs": [],
   "source": []
  },
  {
   "cell_type": "code",
   "execution_count": null,
   "id": "e44946c4",
   "metadata": {},
   "outputs": [],
   "source": []
  },
  {
   "cell_type": "code",
   "execution_count": null,
   "id": "cff90b4b",
   "metadata": {},
   "outputs": [],
   "source": [
    "sample = np.random.normal(0,0.1,(4000,4000))"
   ]
  },
  {
   "cell_type": "code",
   "execution_count": null,
   "id": "c1113e0c",
   "metadata": {},
   "outputs": [],
   "source": [
    "sample"
   ]
  },
  {
   "cell_type": "code",
   "execution_count": null,
   "id": "ea44c89a",
   "metadata": {},
   "outputs": [],
   "source": [
    "# sample[0,:]"
   ]
  },
  {
   "cell_type": "code",
   "execution_count": null,
   "id": "9b40a1db",
   "metadata": {},
   "outputs": [],
   "source": [
    "np.sum(sample)/16000000"
   ]
  },
  {
   "cell_type": "code",
   "execution_count": null,
   "id": "eede677e",
   "metadata": {},
   "outputs": [],
   "source": [
    "np.mean(sample)"
   ]
  },
  {
   "cell_type": "code",
   "execution_count": null,
   "id": "eb3623b3",
   "metadata": {},
   "outputs": [],
   "source": [
    "np.zeros((15,30))"
   ]
  },
  {
   "cell_type": "code",
   "execution_count": null,
   "id": "8e64c05b",
   "metadata": {},
   "outputs": [],
   "source": [
    "Yhat = np.random.normal(1,0.01,(1,10))\n",
    "Yhat"
   ]
  },
  {
   "cell_type": "code",
   "execution_count": null,
   "id": "20faf055",
   "metadata": {},
   "outputs": [],
   "source": [
    "Y = np.zeros((1,10))\n",
    "Y[:,3] = 1\n",
    "Y"
   ]
  },
  {
   "cell_type": "code",
   "execution_count": null,
   "id": "1bff374b",
   "metadata": {},
   "outputs": [],
   "source": [
    "np.sum(-np.log(Yhat)*Y)"
   ]
  },
  {
   "cell_type": "code",
   "execution_count": null,
   "id": "95248e83",
   "metadata": {},
   "outputs": [],
   "source": [
    "-Y/Yhat"
   ]
  },
  {
   "cell_type": "code",
   "execution_count": null,
   "id": "7041d3fa",
   "metadata": {},
   "outputs": [],
   "source": []
  },
  {
   "cell_type": "code",
   "execution_count": null,
   "id": "4123200c",
   "metadata": {},
   "outputs": [],
   "source": []
  },
  {
   "cell_type": "code",
   "execution_count": null,
   "id": "7d9861ec",
   "metadata": {},
   "outputs": [],
   "source": []
  },
  {
   "cell_type": "code",
   "execution_count": null,
   "id": "651effcf",
   "metadata": {},
   "outputs": [],
   "source": []
  },
  {
   "cell_type": "code",
   "execution_count": null,
   "id": "ba4fec5c",
   "metadata": {},
   "outputs": [],
   "source": []
  },
  {
   "cell_type": "code",
   "execution_count": null,
   "id": "f673bce3",
   "metadata": {},
   "outputs": [],
   "source": []
  },
  {
   "cell_type": "code",
   "execution_count": null,
   "id": "d0e90f6c",
   "metadata": {},
   "outputs": [],
   "source": [
    "dL = np.zeros((1,4))"
   ]
  },
  {
   "cell_type": "code",
   "execution_count": null,
   "id": "6a88681b",
   "metadata": {},
   "outputs": [],
   "source": [
    "dL[:,1] = 1\n",
    "dL"
   ]
  },
  {
   "cell_type": "code",
   "execution_count": null,
   "id": "f4861f51",
   "metadata": {},
   "outputs": [],
   "source": [
    "dY = np.random.uniform(1,10,(4,4))\n",
    "dY"
   ]
  },
  {
   "cell_type": "code",
   "execution_count": null,
   "id": "3db4c979",
   "metadata": {},
   "outputs": [],
   "source": [
    "dY*dL.T"
   ]
  },
  {
   "cell_type": "code",
   "execution_count": null,
   "id": "fa092b5a",
   "metadata": {},
   "outputs": [],
   "source": []
  },
  {
   "cell_type": "code",
   "execution_count": null,
   "id": "6e69ce2f",
   "metadata": {},
   "outputs": [],
   "source": []
  },
  {
   "cell_type": "code",
   "execution_count": null,
   "id": "0158fd94",
   "metadata": {},
   "outputs": [],
   "source": []
  },
  {
   "cell_type": "code",
   "execution_count": null,
   "id": "ba577797",
   "metadata": {},
   "outputs": [],
   "source": []
  },
  {
   "cell_type": "code",
   "execution_count": null,
   "id": "23172a36",
   "metadata": {},
   "outputs": [],
   "source": []
  },
  {
   "cell_type": "code",
   "execution_count": null,
   "id": "2272fffb",
   "metadata": {},
   "outputs": [],
   "source": [
    "# testing of FC layer"
   ]
  },
  {
   "cell_type": "code",
   "execution_count": null,
   "id": "47970d08",
   "metadata": {},
   "outputs": [],
   "source": [
    "from fc_layer import FC_layer\n",
    "FC = FC_layer(16,5,weight_inialization=\"xavier\")"
   ]
  },
  {
   "cell_type": "code",
   "execution_count": null,
   "id": "6d9800d7",
   "metadata": {},
   "outputs": [],
   "source": [
    "FC.weights\n"
   ]
  },
  {
   "cell_type": "code",
   "execution_count": null,
   "id": "7b77e32d",
   "metadata": {},
   "outputs": [],
   "source": [
    "FC.weights.shape"
   ]
  },
  {
   "cell_type": "code",
   "execution_count": null,
   "id": "e758d44d",
   "metadata": {},
   "outputs": [],
   "source": [
    "FC.bias"
   ]
  },
  {
   "cell_type": "code",
   "execution_count": null,
   "id": "4cf2a378",
   "metadata": {},
   "outputs": [],
   "source": [
    "FC.bias.shape"
   ]
  },
  {
   "cell_type": "code",
   "execution_count": null,
   "id": "89cd880f",
   "metadata": {},
   "outputs": [],
   "source": [
    "X_train[0]\n"
   ]
  },
  {
   "cell_type": "code",
   "execution_count": null,
   "id": "13213fd2",
   "metadata": {},
   "outputs": [],
   "source": [
    "print(X_train[0].shape)"
   ]
  },
  {
   "cell_type": "code",
   "execution_count": null,
   "id": "27a66497",
   "metadata": {},
   "outputs": [],
   "source": [
    "np.dot(X_train[0],FC.weights).reshape(1,5)"
   ]
  },
  {
   "cell_type": "code",
   "execution_count": null,
   "id": "7baad108",
   "metadata": {},
   "outputs": [],
   "source": []
  },
  {
   "cell_type": "code",
   "execution_count": null,
   "id": "ade9d8d5",
   "metadata": {},
   "outputs": [],
   "source": []
  },
  {
   "cell_type": "code",
   "execution_count": null,
   "id": "8c755eb6",
   "metadata": {},
   "outputs": [],
   "source": []
  },
  {
   "cell_type": "code",
   "execution_count": null,
   "id": "23ca2a21",
   "metadata": {},
   "outputs": [],
   "source": []
  },
  {
   "cell_type": "code",
   "execution_count": 3,
   "id": "976a038f",
   "metadata": {},
   "outputs": [],
   "source": [
    "import numpy as np"
   ]
  },
  {
   "cell_type": "code",
   "execution_count": 4,
   "id": "1063ef0b",
   "metadata": {},
   "outputs": [],
   "source": [
    "from Adam import AdamOptim\n",
    "adam = AdamOptim(eta=0.1, beta1=0.9, beta2=0.999, epsilon=1e-8)"
   ]
  },
  {
   "cell_type": "code",
   "execution_count": 5,
   "id": "f2a6f5f6",
   "metadata": {},
   "outputs": [],
   "source": [
    "dw = np.random.normal(0,1,(4,5))\n",
    "db = np.random.normal(0,1,(5,1))\n",
    "w = np.random.normal(0,1,(4,5))\n",
    "b = np.random.normal(0,1,(5,1))"
   ]
  },
  {
   "cell_type": "code",
   "execution_count": 5,
   "id": "01a8da8c",
   "metadata": {},
   "outputs": [
    {
     "data": {
      "text/plain": [
       "array([[0.31748791],\n",
       "       [0.34644198],\n",
       "       [1.72838268],\n",
       "       [0.73905188],\n",
       "       [1.23441079]])"
      ]
     },
     "execution_count": 5,
     "metadata": {},
     "output_type": "execute_result"
    }
   ],
   "source": [
    "db"
   ]
  },
  {
   "cell_type": "code",
   "execution_count": 6,
   "id": "6f84fe7c",
   "metadata": {},
   "outputs": [
    {
     "name": "stdout",
     "output_type": "stream",
     "text": [
      "[[0.0101253 ]\n",
      " [0.01205631]\n",
      " [0.30007742]\n",
      " [0.05486601]\n",
      " [0.15306395]]\n"
     ]
    },
    {
     "data": {
      "text/plain": [
       "(array([[-0.93427712, -0.53524016, -1.09862751, -1.72479785,  0.70566303],\n",
       "        [-1.39170066,  0.43559766, -0.41097931, -1.13711407, -1.37717428],\n",
       "        [-0.79529364,  1.25084449,  0.33075867, -0.22262226, -2.62577482],\n",
       "        [ 1.56856268,  1.74434742, -1.59079826, -2.72799106, -0.65844032]]),\n",
       " array([[-1.18903234],\n",
       "        [-0.67379686],\n",
       "        [ 0.6732344 ],\n",
       "        [ 0.28374624],\n",
       "        [-0.09211479]]))"
      ]
     },
     "execution_count": 6,
     "metadata": {},
     "output_type": "execute_result"
    }
   ],
   "source": [
    "adam.update(t=10, w=w, b=b, dw=dw, db=db)"
   ]
  },
  {
   "cell_type": "code",
   "execution_count": 7,
   "id": "5a5b0319",
   "metadata": {},
   "outputs": [
    {
     "data": {
      "text/plain": [
       "array([[-0.98271975, -0.48679754, -1.14707014, -1.67635523,  0.75410567],\n",
       "       [-1.4401433 ,  0.48404029, -0.45942194, -1.18555671, -1.42561691],\n",
       "       [-0.84373628,  1.29928713,  0.28231603, -0.27106489, -2.67421746],\n",
       "       [ 1.61700532,  1.79279006, -1.54235563, -2.67954857, -0.70688295]])"
      ]
     },
     "execution_count": 7,
     "metadata": {},
     "output_type": "execute_result"
    }
   ],
   "source": [
    "w"
   ]
  },
  {
   "cell_type": "code",
   "execution_count": 16,
   "id": "5e8665ee",
   "metadata": {},
   "outputs": [
    {
     "ename": "AttributeError",
     "evalue": "'int' object has no attribute 'shape'",
     "output_type": "error",
     "traceback": [
      "\u001b[1;31m---------------------------------------------------------------------------\u001b[0m",
      "\u001b[1;31mAttributeError\u001b[0m                            Traceback (most recent call last)",
      "Input \u001b[1;32mIn [16]\u001b[0m, in \u001b[0;36m<cell line: 1>\u001b[1;34m()\u001b[0m\n\u001b[1;32m----> 1\u001b[0m \u001b[43mw\u001b[49m\u001b[38;5;241;43m.\u001b[39;49m\u001b[43mshape\u001b[49m\n\u001b[0;32m      2\u001b[0m np\u001b[38;5;241m.\u001b[39mzeros(w\u001b[38;5;241m.\u001b[39mshape)\n",
      "\u001b[1;31mAttributeError\u001b[0m: 'int' object has no attribute 'shape'"
     ]
    }
   ],
   "source": [
    "w.shape\n",
    "np.zeros(w.shape)"
   ]
  },
  {
   "cell_type": "code",
   "execution_count": 23,
   "id": "b31f0f1b",
   "metadata": {},
   "outputs": [
    {
     "name": "stdout",
     "output_type": "stream",
     "text": [
      "[[0. 0. 0. 1. 1.]\n",
      " [0. 1. 0. 1. 0.]\n",
      " [1. 0. 0. 0. 0.]\n",
      " [0. 0. 0. 0. 0.]]\n"
     ]
    },
    {
     "data": {
      "text/plain": [
       "array([[0., 0., 0., 1., 1.],\n",
       "       [0., 1., 0., 1., 0.],\n",
       "       [1., 0., 0., 0., 0.],\n",
       "       [0., 0., 0., 0., 0.]])"
      ]
     },
     "execution_count": 23,
     "metadata": {},
     "output_type": "execute_result"
    }
   ],
   "source": [
    "w = np.maximum(0,w)\n",
    "print(w)\n",
    "w[w>0] = 1\n",
    "w"
   ]
  },
  {
   "cell_type": "code",
   "execution_count": 10,
   "id": "f36ee241",
   "metadata": {},
   "outputs": [
    {
     "data": {
      "text/plain": [
       "array([[ 0.12860501,  1.43530235,  0.49785275, -0.38339687,  0.18658595],\n",
       "       [ 1.07428441, -1.39508337, -0.0739996 ,  1.69579665,  0.29267518],\n",
       "       [-0.60332555,  1.13907548,  1.77741002,  1.54952557,  1.34283672],\n",
       "       [-0.55746597, -1.45232232,  0.63658664,  0.42877084,  1.07849402]])"
      ]
     },
     "execution_count": 10,
     "metadata": {},
     "output_type": "execute_result"
    }
   ],
   "source": [
    "from act_func import activation_function\n",
    "activation = activation_function()\n",
    "w"
   ]
  },
  {
   "cell_type": "code",
   "execution_count": 8,
   "id": "19fe6759",
   "metadata": {},
   "outputs": [
    {
     "data": {
      "text/plain": [
       "array([[0.12860501, 1.43530235, 0.49785275, 0.        , 0.18658595],\n",
       "       [1.07428441, 0.        , 0.        , 1.69579665, 0.29267518],\n",
       "       [0.        , 1.13907548, 1.77741002, 1.54952557, 1.34283672],\n",
       "       [0.        , 0.        , 0.63658664, 0.42877084, 1.07849402]])"
      ]
     },
     "execution_count": 8,
     "metadata": {},
     "output_type": "execute_result"
    }
   ],
   "source": [
    "activation.activation(name=\"relu\", x=w)"
   ]
  },
  {
   "cell_type": "code",
   "execution_count": 9,
   "id": "a2044d8e",
   "metadata": {},
   "outputs": [
    {
     "data": {
      "text/plain": [
       "array([[1., 1., 1., 0., 1.],\n",
       "       [1., 0., 0., 1., 1.],\n",
       "       [0., 1., 1., 1., 1.],\n",
       "       [0., 0., 1., 1., 1.]])"
      ]
     },
     "execution_count": 9,
     "metadata": {},
     "output_type": "execute_result"
    }
   ],
   "source": [
    "activation.activation_prime(x=w)"
   ]
  },
  {
   "cell_type": "code",
   "execution_count": 19,
   "id": "2809db81",
   "metadata": {},
   "outputs": [],
   "source": [
    "import matplotlib.pyplot as plt\n"
   ]
  },
  {
   "cell_type": "code",
   "execution_count": null,
   "id": "5cfc575d",
   "metadata": {},
   "outputs": [],
   "source": [
    "!pip inst"
   ]
  },
  {
   "cell_type": "code",
   "execution_count": 20,
   "id": "9e23c75b",
   "metadata": {},
   "outputs": [
    {
     "data": {
      "image/png": "[encoded data removed]",
      "text/plain": [
       "<Figure size 432x288 with 1 Axes>"
      ]
     },
     "metadata": {
      "needs_background": "light"
     },
     "output_type": "display_data"
    }
   ],
   "source": [
    "import matplotlib.pyplot as plt\n",
    "x_coordinates = [1, 2, 3]\n",
    "\n",
    "y1_coordinates = [1, 2, 3]\n",
    "y2_coordinates = [3, 4, 5]\n",
    "\n",
    "fig = plt.figure(1)\n",
    "plt.plot(x_coordinates, y1_coordinates) # plot first line\n",
    "plt.plot(x_coordinates, y2_coordinates) # plot second line\n",
    "plt.show()"
   ]
  },
  {
   "cell_type": "code",
   "execution_count": 22,
   "id": "53d748eb",
   "metadata": {},
   "outputs": [
    {
     "data": {
      "image/png": "[encoded data removed]",
      "text/plain": [
       "<Figure size 432x288 with 1 Axes>"
      ]
     },
     "metadata": {
      "needs_background": "light"
     },
     "output_type": "display_data"
    }
   ],
   "source": [
    "\n",
    "# importing package\n",
    "import matplotlib.pyplot as plt\n",
    "import numpy as np\n",
    "  \n",
    "# create data\n",
    "x = [1,2,3,4,5]\n",
    "y = [3,3,3,3,3]\n",
    "  \n",
    "# plot lines\n",
    "# plt.plot(x,label = \"line 1\")\n",
    "# plt.plot(y, label = \"line 2\")\n",
    "plt.plot(x, label = \"curve 1\")\n",
    "plt.plot(y, label = \"curve 2\")\n",
    "plt.legend()\n",
    "plt.show()"
   ]
  },
  {
   "cell_type": "code",
   "execution_count": null,
   "id": "a2a94e60",
   "metadata": {},
   "outputs": [],
   "source": []
  }
 ],
 "metadata": {
  "kernelspec": {
   "display_name": "Python 3 (ipykernel)",
   "language": "python",
   "name": "python3"
  },
  "language_info": {
   "codemirror_mode": {
    "name": "ipython",
    "version": 3
   },
   "file_extension": ".py",
   "mimetype": "text/x-python",
   "name": "python",
   "nbconvert_exporter": "python",
   "pygments_lexer": "ipython3",
   "version": "3.9.12"
  }
 },
 "nbformat": 4,
 "nbformat_minor": 5
}
